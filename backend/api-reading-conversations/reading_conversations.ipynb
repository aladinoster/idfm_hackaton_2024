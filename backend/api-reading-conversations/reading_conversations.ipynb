{
 "cells": [
  {
   "cell_type": "markdown",
   "metadata": {},
   "source": [
    "# Import Required Libraries\n",
    "Import the necessary libraries, including json."
   ]
  },
  {
   "cell_type": "code",
   "execution_count": 2,
   "metadata": {},
   "outputs": [],
   "source": [
    "# Import the necessary libraries, including json\n",
    "import json"
   ]
  },
  {
   "cell_type": "markdown",
   "metadata": {},
   "source": [
    "# Load JSON Data\n",
    "Load the JSON data from the file using the json library."
   ]
  },
  {
   "cell_type": "code",
   "execution_count": 3,
   "metadata": {},
   "outputs": [
    {
     "data": {
      "text/plain": [
       "{'users': [{'id': 1234,\n",
       "   'name': 'Andrew Owen',\n",
       "   'age': 26,\n",
       "   'mail': 'andrew.owen@mail.com'},\n",
       "  {'id': 1235, 'name': 'Susan Que', 'age': 45, 'mail': 'susan.que@mail.com'},\n",
       "  {'id': 1236, 'name': 'John Doe', 'age': 53, 'mail': 'john.doe@mail.com'}],\n",
       " 'preferences': [{'userId': 1234,\n",
       "   'travelType': 'Tourisme',\n",
       "   'bikeRating': 4,\n",
       "   'busRating': 3,\n",
       "   'metroRating': 5,\n",
       "   'walkRating': 2,\n",
       "   'travelPreference': 'fast'},\n",
       "  {'userId': 1235,\n",
       "   'travelType': 'Business',\n",
       "   'bikeRating': 3,\n",
       "   'busRating': 4,\n",
       "   'metroRating': 4,\n",
       "   'walkRating': 3,\n",
       "   'travelPreference': 'comfortable'},\n",
       "  {'userId': 1236,\n",
       "   'travelType': 'Leisure',\n",
       "   'bikeRating': 5,\n",
       "   'busRating': 2,\n",
       "   'metroRating': 3,\n",
       "   'walkRating': 4,\n",
       "   'travelPreference': 'fast'}],\n",
       " 'conversations': [{'userId': 1234,\n",
       "   'message': 'Hello, how are you?',\n",
       "   'timestamp': '2022-01-01T10:00:00.000Z'},\n",
       "  {'userId': 1235,\n",
       "   'message': 'Good morning, I need some assistance.',\n",
       "   'timestamp': '2022-01-02T09:30:00.000Z'},\n",
       "  {'userId': 1236,\n",
       "   'message': 'Can you help me with my travel plans?',\n",
       "   'timestamp': '2022-01-03T11:15:00.000Z'},\n",
       "  {'userId': 1234,\n",
       "   'message': 'What are the best places to visit?',\n",
       "   'timestamp': '2022-01-04T14:00:00.000Z'},\n",
       "  {'userId': 1235,\n",
       "   'message': 'I have a meeting at 3 PM.',\n",
       "   'timestamp': '2022-01-05T08:45:00.000Z'},\n",
       "  {'userId': 1236,\n",
       "   'message': 'Looking for a good restaurant.',\n",
       "   'timestamp': '2022-01-06T13:30:00.000Z'}]}"
      ]
     },
     "execution_count": 3,
     "metadata": {},
     "output_type": "execute_result"
    }
   ],
   "source": [
    "# Load JSON Data\n",
    "\n",
    "# Open the JSON file and load the data into a Python dictionary\n",
    "with open('../../frontend-angular/db.json', 'r') as file:\n",
    "    data = json.load(file)\n",
    "\n",
    "# Display the loaded data\n",
    "data"
   ]
  },
  {
   "cell_type": "markdown",
   "metadata": {},
   "source": [
    "# Display User Data\n",
    "Extract and display the user data from the JSON file."
   ]
  },
  {
   "cell_type": "code",
   "execution_count": 4,
   "metadata": {},
   "outputs": [
    {
     "name": "stdout",
     "output_type": "stream",
     "text": [
      "ID: 1234, Name: Andrew Owen, Age: 26, Email: andrew.owen@mail.com\n",
      "ID: 1235, Name: Susan Que, Age: 45, Email: susan.que@mail.com\n",
      "ID: 1236, Name: John Doe, Age: 53, Email: john.doe@mail.com\n"
     ]
    }
   ],
   "source": [
    "# Extract and display the user data from the JSON file\n",
    "\n",
    "# Extract user data\n",
    "users = data['users']\n",
    "\n",
    "# Display user data\n",
    "for user in users:\n",
    "    print(f\"ID: {user['id']}, Name: {user['name']}, Age: {user['age']}, Email: {user['mail']}\")"
   ]
  },
  {
   "cell_type": "markdown",
   "metadata": {},
   "source": [
    "# Display Preferences Data\n",
    "Extract and display the preferences data from the JSON file."
   ]
  },
  {
   "cell_type": "code",
   "execution_count": 5,
   "metadata": {},
   "outputs": [
    {
     "name": "stdout",
     "output_type": "stream",
     "text": [
      "UserID: 1234, Travel Type: Tourisme, Bike Rating: 4, Bus Rating: 3, Metro Rating: 5\n",
      "UserID: 1235, Travel Type: Business, Bike Rating: 3, Bus Rating: 4, Metro Rating: 4\n",
      "UserID: 1236, Travel Type: Leisure, Bike Rating: 5, Bus Rating: 2, Metro Rating: 3\n"
     ]
    }
   ],
   "source": [
    "# Extract and display the preferences data from the JSON file\n",
    "\n",
    "# Extract preferences data\n",
    "preferences = data['preferences']\n",
    "\n",
    "# Display preferences data\n",
    "for preference in preferences:\n",
    "    print(f\"UserID: {preference['userId']}, Travel Type: {preference['travelType']}, Bike Rating: {preference['bikeRating']}, Bus Rating: {preference['busRating']}, Metro Rating: {preference['metroRating']}\")"
   ]
  },
  {
   "cell_type": "code",
   "execution_count": null,
   "metadata": {},
   "outputs": [
    {
     "name": "stdout",
     "output_type": "stream",
     "text": [
      "\n",
      "Summary:\n",
      "{\n",
      "    \"total_users\": 3,\n",
      "    \"total_preferences\": 3,\n",
      "    \"user_names\": [\n",
      "        \"Andrew Owen\",\n",
      "        \"Susan Que\",\n",
      "        \"John Doe\"\n",
      "    ]\n",
      "}\n"
     ]
    }
   ],
   "source": [
    "# Summarize the data\n",
    "def summarize_data(data):\n",
    "    summary = {\n",
    "        \"total_users\": len(data.get(\"users\", [])),\n",
    "        \"total_preferences\": len(data.get(\"preferences\", [])),\n",
    "        \"user_names\": [user[\"name\"] for user in data.get(\"users\", [])]\n",
    "    }\n",
    "    return summary\n",
    "\n",
    "# Display the summary\n",
    "summary = summarize_data(data)\n",
    "print(\"\\nSummary:\")\n",
    "print(json.dumps(summary, indent=4))"
   ]
  },
  {
   "cell_type": "code",
   "execution_count": null,
   "metadata": {},
   "outputs": [],
   "source": []
  },
  {
   "cell_type": "code",
   "execution_count": 7,
   "metadata": {},
   "outputs": [
    {
     "name": "stdout",
     "output_type": "stream",
     "text": [
      "Conversation Summary:\n",
      "User 1234:\n",
      "  - Hello, how are you?\n",
      "  - What are the best places to visit?\n",
      "User 1235:\n",
      "  - Good morning, I need some assistance.\n",
      "  - I have a meeting at 3 PM.\n",
      "User 1236:\n",
      "  - Can you help me with my travel plans?\n",
      "  - Looking for a good restaurant.\n"
     ]
    }
   ],
   "source": [
    "from collections import defaultdict\n",
    "\n",
    "\n",
    "# Function to summarize conversation messages\n",
    "def summarize_conversations(conversations):\n",
    "    summary = defaultdict(list)\n",
    "    for conversation in conversations:\n",
    "        user_id = conversation[\"userId\"]\n",
    "        summary[user_id].append(conversation[\"message\"])\n",
    "    return summary\n",
    "\n",
    "# Extract conversation data\n",
    "conversations = data.get(\"conversations\", [])\n",
    "\n",
    "# Summarize the conversation messages\n",
    "conversation_summary = summarize_conversations(conversations)\n",
    "\n",
    "# Display the summary\n",
    "print(\"Conversation Summary:\")\n",
    "for user_id, messages in conversation_summary.items():\n",
    "    print(f\"User {user_id}:\")\n",
    "    for message in messages:\n",
    "        print(f\"  - {message}\")"
   ]
  },
  {
   "cell_type": "code",
   "execution_count": null,
   "metadata": {},
   "outputs": [],
   "source": []
  }
 ],
 "metadata": {
  "kernelspec": {
   "display_name": ".venv",
   "language": "python",
   "name": "python3"
  },
  "language_info": {
   "codemirror_mode": {
    "name": "ipython",
    "version": 3
   },
   "file_extension": ".py",
   "mimetype": "text/x-python",
   "name": "python",
   "nbconvert_exporter": "python",
   "pygments_lexer": "ipython3",
   "version": "3.12.3"
  }
 },
 "nbformat": 4,
 "nbformat_minor": 2
}
